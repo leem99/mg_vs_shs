{
 "metadata": {
  "name": "clean_homer_output"
 },
 "nbformat": 3,
 "nbformat_minor": 0,
 "worksheets": [
  {
   "cells": [
    {
     "cell_type": "markdown",
     "metadata": {},
     "source": [
      "## Clean and Combine HOMER CSV Outputs ##\n",
      "By: Mitchell Lee\n",
      "\n",
      "\n",
      "* Put site and circuit in data\n",
      "* Make data uniformly delimited"
     ]
    },
    {
     "cell_type": "markdown",
     "metadata": {},
     "source": [
      "### Sensitivity Analysis Cleaning ###"
     ]
    },
    {
     "cell_type": "markdown",
     "metadata": {},
     "source": [
      "####Import necessary libraries ####"
     ]
    },
    {
     "cell_type": "code",
     "collapsed": false,
     "input": [
      "import numpy as np\n",
      "import pandas as pd\n",
      "import glob\n",
      "import csv\n",
      "import string"
     ],
     "language": "python",
     "metadata": {},
     "outputs": [],
     "prompt_number": 1
    },
    {
     "cell_type": "markdown",
     "metadata": {},
     "source": [
      "## Micro-grid sensitivity analysis data ##"
     ]
    },
    {
     "cell_type": "code",
     "collapsed": false,
     "input": [
      "sens_mg = pd.read_csv('../homer_results/ug01_optimally_sized_sensitivity_results.csv',delimiter = '\\t')"
     ],
     "language": "python",
     "metadata": {},
     "outputs": [],
     "prompt_number": 2
    },
    {
     "cell_type": "markdown",
     "metadata": {},
     "source": [
      "#### Rename columns and remove useless columns from micro-grid data ####"
     ]
    },
    {
     "cell_type": "code",
     "collapsed": false,
     "input": [
      "# remove unnamed empty column\n",
      "del sens_mg['Unnamed: 10']\n",
      "\n",
      "# remove 'renewable fraction' column (information is not useful because all models are PV generation only)\n",
      "del sens_mg['Renewable fraction']            \n",
      "\n",
      "# rename columns\n",
      "sens_mg.columns = ['max_cap_short','pv','num_batts','inv','int_cap','op_cost','npc','coe','cap_short']\n",
      "\n",
      "# convert int_cap and NPC to float \n",
      "sens_mg['int_cap'] = sens_mg['int_cap'].str.replace(r'[$,]', '').astype('float')\n",
      "sens_mg['npc'] = sens_mg['npc'].str.replace(r'[$,]', '').astype('float')\n"
     ],
     "language": "python",
     "metadata": {},
     "outputs": [],
     "prompt_number": 3
    },
    {
     "cell_type": "markdown",
     "metadata": {},
     "source": [
      "#### Save cleaned micro-grid sensitivity analysis data to CSV ####"
     ]
    },
    {
     "cell_type": "code",
     "collapsed": false,
     "input": [
      "sens_mg.to_csv('../homer_results/ug01_optimally_sized_sensitivity_results_cleaned.csv')"
     ],
     "language": "python",
     "metadata": {},
     "outputs": [],
     "prompt_number": 4
    },
    {
     "cell_type": "markdown",
     "metadata": {},
     "source": [
      "## Solar homer system sensitivity analysis data ##"
     ]
    },
    {
     "cell_type": "markdown",
     "metadata": {},
     "source": [
      "#### Make list of SHS sensitivity analysis files ####"
     ]
    },
    {
     "cell_type": "code",
     "collapsed": false,
     "input": [
      "sens_flist = glob.glob('../homer_results/sensitivity_results_u*') "
     ],
     "language": "python",
     "metadata": {},
     "outputs": [],
     "prompt_number": 5
    },
    {
     "cell_type": "markdown",
     "metadata": {},
     "source": [
      "#### Loop through SHS files and append them as pandas DataFrame ####"
     ]
    },
    {
     "cell_type": "code",
     "collapsed": false,
     "input": [
      "for ix, sens_f in enumerate(sens_flist):\n",
      "    # for first file create the DataFrame that all other files will be appended to\n",
      "    if ix == 0:\n",
      "        sens_f_split = string.rsplit(sens_f,'_')\n",
      "        site = sens_f_split[-2]\n",
      "        circuit = string.split(sens_f_split[-1],'.')[0] \n",
      "        sens_df = pd.read_csv(sens_f, delimiter= '\\t')\n",
      "        sens_df['site'] = site\n",
      "        sens_df['circuit'] = circuit\n",
      "    # open subsequent files and append to initial DataFrame\n",
      "    else:\n",
      "        sens_f_split = string.rsplit(sens_f,'_')\n",
      "        site = sens_f_split[-2]\n",
      "        circuit = string.split(sens_f_split[-1],'.')[0] \n",
      "        sens_df_temp = pd.read_csv(sens_f, delimiter= '\\t')\n",
      "        sens_df_temp['site'] = site\n",
      "        sens_df_temp['circuit'] = circuit\n",
      "        sens_df = sens_df.append(sens_df_temp)"
     ],
     "language": "python",
     "metadata": {},
     "outputs": [],
     "prompt_number": 6
    },
    {
     "cell_type": "markdown",
     "metadata": {},
     "source": [
      "#### Rename columns and remove useless columns from SHS data ####"
     ]
    },
    {
     "cell_type": "code",
     "collapsed": false,
     "input": [
      "# remove unnamed empty column\n",
      "del sens_df['Unnamed: 10']\n",
      "\n",
      "# remove 'renewable fraction' column (information is not useful because all models are PV generation only)\n",
      "del sens_df['Renewable fraction']            \n",
      "\n",
      "# rename columns\n",
      "sens_df.columns = ['max_cap_short','pv','num_batts','inv','int_cap','op_cost','npc','coe','cap_short','site','circuit']"
     ],
     "language": "python",
     "metadata": {},
     "outputs": [],
     "prompt_number": 7
    },
    {
     "cell_type": "code",
     "collapsed": false,
     "input": [
      "sens_df"
     ],
     "language": "python",
     "metadata": {},
     "outputs": [
      {
       "html": [
        "<pre>\n",
        "&lt;class 'pandas.core.frame.DataFrame'&gt;\n",
        "Int64Index: 70 entries, 0 to 6\n",
        "Data columns (total 11 columns):\n",
        "max_cap_short    70  non-null values\n",
        "pv               70  non-null values\n",
        "num_batts        70  non-null values\n",
        "inv              70  non-null values\n",
        "int_cap          70  non-null values\n",
        "op_cost          70  non-null values\n",
        "npc              70  non-null values\n",
        "coe              70  non-null values\n",
        "cap_short        70  non-null values\n",
        "site             70  non-null values\n",
        "circuit          70  non-null values\n",
        "dtypes: float64(5), int64(2), object(4)\n",
        "</pre>"
       ],
       "output_type": "pyout",
       "prompt_number": 8,
       "text": [
        "<class 'pandas.core.frame.DataFrame'>\n",
        "Int64Index: 70 entries, 0 to 6\n",
        "Data columns (total 11 columns):\n",
        "max_cap_short    70  non-null values\n",
        "pv               70  non-null values\n",
        "num_batts        70  non-null values\n",
        "inv              70  non-null values\n",
        "int_cap          70  non-null values\n",
        "op_cost          70  non-null values\n",
        "npc              70  non-null values\n",
        "coe              70  non-null values\n",
        "cap_short        70  non-null values\n",
        "site             70  non-null values\n",
        "circuit          70  non-null values\n",
        "dtypes: float64(5), int64(2), object(4)"
       ]
      }
     ],
     "prompt_number": 8
    },
    {
     "cell_type": "code",
     "collapsed": false,
     "input": [
      "# convert int_cap and NPC to float \n",
      "sens_df['int_cap'] = sens_df['int_cap'].str.replace(r'[$,]', '').astype('float')\n",
      "sens_df['npc'] = sens_df['npc'].str.replace(r'[$,]', '').astype('float')\n"
     ],
     "language": "python",
     "metadata": {},
     "outputs": [],
     "prompt_number": 9
    },
    {
     "cell_type": "markdown",
     "metadata": {},
     "source": [
      "#### Pivot sensitivity analysis To Multi-index on: ####\n",
      "> * site\n",
      "> * circuit\n",
      "> * max capacity shortage"
     ]
    },
    {
     "cell_type": "code",
     "collapsed": false,
     "input": [
      "sens_df = pd.pivot_table(sens_df, rows = ['site','circuit','max_cap_short'], values = ['pv','num_batts','inv','int_cap','op_cost','npc','coe','cap_short'])"
     ],
     "language": "python",
     "metadata": {},
     "outputs": [],
     "prompt_number": 10
    },
    {
     "cell_type": "markdown",
     "metadata": {},
     "source": [
      "#### Example of how to slice sens_def ####"
     ]
    },
    {
     "cell_type": "code",
     "collapsed": false,
     "input": [
      "# To make a slice on a site and a single maximum capacity shortage\n",
      "# e.g    sens_df.xs(('ug01',0.5),level = [0,2]) #pick the first and third multindex"
     ],
     "language": "python",
     "metadata": {},
     "outputs": [],
     "prompt_number": 11
    },
    {
     "cell_type": "markdown",
     "metadata": {},
     "source": [
      "#### Send combined SHS sensitivity analysis to csv  #####"
     ]
    },
    {
     "cell_type": "code",
     "collapsed": false,
     "input": [
      "sens_df.to_csv('../homer_results/sensitivity_results_comb.csv')"
     ],
     "language": "python",
     "metadata": {},
     "outputs": [],
     "prompt_number": 12
    },
    {
     "cell_type": "code",
     "collapsed": false,
     "input": [
      "sens_df"
     ],
     "language": "python",
     "metadata": {},
     "outputs": [
      {
       "html": [
        "<pre>\n",
        "&lt;class 'pandas.core.frame.DataFrame'&gt;\n",
        "MultiIndex: 70 entries, (ug01, 1, 0.0) to (ug01, 9, 10.0)\n",
        "Data columns (total 8 columns):\n",
        "cap_short    70  non-null values\n",
        "coe          70  non-null values\n",
        "int_cap      70  non-null values\n",
        "inv          70  non-null values\n",
        "npc          70  non-null values\n",
        "num_batts    70  non-null values\n",
        "op_cost      70  non-null values\n",
        "pv           70  non-null values\n",
        "dtypes: float64(6), int64(2)\n",
        "</pre>"
       ],
       "output_type": "pyout",
       "prompt_number": 13,
       "text": [
        "<class 'pandas.core.frame.DataFrame'>\n",
        "MultiIndex: 70 entries, (ug01, 1, 0.0) to (ug01, 9, 10.0)\n",
        "Data columns (total 8 columns):\n",
        "cap_short    70  non-null values\n",
        "coe          70  non-null values\n",
        "int_cap      70  non-null values\n",
        "inv          70  non-null values\n",
        "npc          70  non-null values\n",
        "num_batts    70  non-null values\n",
        "op_cost      70  non-null values\n",
        "pv           70  non-null values\n",
        "dtypes: float64(6), int64(2)"
       ]
      }
     ],
     "prompt_number": 13
    },
    {
     "cell_type": "code",
     "collapsed": false,
     "input": [],
     "language": "python",
     "metadata": {},
     "outputs": [],
     "prompt_number": 13
    },
    {
     "cell_type": "code",
     "collapsed": false,
     "input": [],
     "language": "python",
     "metadata": {},
     "outputs": [],
     "prompt_number": 13
    }
   ],
   "metadata": {}
  }
 ]
}