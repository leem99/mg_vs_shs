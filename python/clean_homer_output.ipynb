{
 "metadata": {
  "name": "clean_homer_output"
 },
 "nbformat": 3,
 "nbformat_minor": 0,
 "worksheets": [
  {
   "cells": [
    {
     "cell_type": "markdown",
     "metadata": {},
     "source": [
      "## Clean and Combine HOMER CSV Outputs ##\n",
      "By: Mitchell Lee\n",
      "\n",
      "\n",
      "* Put site and circuit in data\n",
      "* Make data uniformly delimited"
     ]
    },
    {
     "cell_type": "markdown",
     "metadata": {},
     "source": [
      "### Sensitivity Analysis Cleaning ###"
     ]
    },
    {
     "cell_type": "markdown",
     "metadata": {},
     "source": [
      "####Import necessary libraries ####"
     ]
    },
    {
     "cell_type": "code",
     "collapsed": false,
     "input": [
      "import numpy as np\n",
      "import pandas as pd\n",
      "import glob\n",
      "import csv\n",
      "import string"
     ],
     "language": "python",
     "metadata": {},
     "outputs": [],
     "prompt_number": 1
    },
    {
     "cell_type": "markdown",
     "metadata": {},
     "source": [
      "## Micro-grid sensitivity analysis data ##"
     ]
    },
    {
     "cell_type": "code",
     "collapsed": false,
     "input": [
      "sens_mg = pd.read_csv('../homer_results/ug01_optimally_sized_sensitivity_results.csv',delimiter = '\\t')"
     ],
     "language": "python",
     "metadata": {},
     "outputs": [],
     "prompt_number": 30
    },
    {
     "cell_type": "markdown",
     "metadata": {},
     "source": [
      "#### Rename columns and remove useless columns from micro-grid data ####"
     ]
    },
    {
     "cell_type": "code",
     "collapsed": false,
     "input": [
      "# remove unnamed empty column\n",
      "del sens_mg['Unnamed: 10']\n",
      "\n",
      "# remove 'renewable fraction' column (information is not useful because all models are PV generation only)\n",
      "del sens_mg['Renewable fraction']            \n",
      "\n",
      "# rename columns\n",
      "sens_mg.columns = ['max_cap_short','pv_cap','num_batts','inv','int_cap','op_cost','NPC','COE','cap_short']"
     ],
     "language": "python",
     "metadata": {},
     "outputs": [],
     "prompt_number": 31
    },
    {
     "cell_type": "markdown",
     "metadata": {},
     "source": [
      "#### Save cleaned micro-grid sensitivity analysis data to CSV ####"
     ]
    },
    {
     "cell_type": "code",
     "collapsed": false,
     "input": [
      "sens_df.to_csv('../homer_results/ug01_optimally_sized_sensitivity_results_cleaned.csv')"
     ],
     "language": "python",
     "metadata": {},
     "outputs": [],
     "prompt_number": 32
    },
    {
     "cell_type": "markdown",
     "metadata": {},
     "source": [
      "## Solar homer system sensitivity analysis data ##"
     ]
    },
    {
     "cell_type": "markdown",
     "metadata": {},
     "source": [
      "#### Make list of SHS sensitivity analysis files ####"
     ]
    },
    {
     "cell_type": "code",
     "collapsed": false,
     "input": [
      "sens_flist = glob.glob('../homer_results/sensitivity_results_u*') "
     ],
     "language": "python",
     "metadata": {},
     "outputs": [],
     "prompt_number": 2
    },
    {
     "cell_type": "markdown",
     "metadata": {},
     "source": [
      "#### Loop through SHS files and append them as pandas DataFrame ####"
     ]
    },
    {
     "cell_type": "code",
     "collapsed": false,
     "input": [
      "for ix, sens_f in enumerate(sens_flist):\n",
      "    # for first file create the DataFrame that all other files will be appended to\n",
      "    if ix == 0:\n",
      "        sens_f_split = string.rsplit(sens_f,'_')\n",
      "        site = sens_f_split[-2]\n",
      "        circuit = string.split(sens_f_split[-1],'.')[0] \n",
      "        sens_df = pd.read_csv(sens_f, delimiter= '\\t')\n",
      "        sens_df['site'] = site\n",
      "        sens_df['circuit'] = circuit\n",
      "    # open subsequent files and append to initial DataFrame\n",
      "    else:\n",
      "        sens_f_split = string.rsplit(sens_f,'_')\n",
      "        site = sens_f_split[-2]\n",
      "        circuit = string.split(sens_f_split[-1],'.')[0] \n",
      "        sens_df_temp = pd.read_csv(sens_f, delimiter= '\\t')\n",
      "        sens_df_temp['site'] = site\n",
      "        sens_df_temp['circuit'] = circuit\n",
      "        sens_df = sens_df.append(sens_df_temp)"
     ],
     "language": "python",
     "metadata": {},
     "outputs": [],
     "prompt_number": 3
    },
    {
     "cell_type": "markdown",
     "metadata": {},
     "source": [
      "#### Rename columns and remove useless columns from SHS data ####"
     ]
    },
    {
     "cell_type": "code",
     "collapsed": false,
     "input": [
      "# remove unnamed empty column\n",
      "del sens_df['Unnamed: 10']\n",
      "\n",
      "# remove 'renewable fraction' column (information is not useful because all models are PV generation only)\n",
      "del sens_df['Renewable fraction']            \n",
      "\n",
      "# rename columns\n",
      "sens_df.columns = ['max_cap_short','pv_cap','num_batts','inv','int_cap','op_cost','NPC','COE','cap_short','site','circuit']"
     ],
     "language": "python",
     "metadata": {},
     "outputs": [],
     "prompt_number": 4
    },
    {
     "cell_type": "code",
     "collapsed": false,
     "input": [
      "# convert int_cap and NPC to float \n",
      "sens_df['int_cap'] = sens_df['int_cap'].str.replace(r'[$,]', '').astype('float')\n",
      "sens_df['NPC'] = sens_df['NPC'].str.replace(r'[$,]', '').astype('float')\n",
      "\n",
      "#make\n",
      "sens_df['cap_short'] = sens_df['cap_short'].astype('string')"
     ],
     "language": "python",
     "metadata": {},
     "outputs": [],
     "prompt_number": 5
    },
    {
     "cell_type": "markdown",
     "metadata": {},
     "source": [
      "#### Pivot sensitivity analysis To Multi-index on: ####\n",
      "> * site\n",
      "> * circuit\n",
      "> * max capacity shortage"
     ]
    },
    {
     "cell_type": "code",
     "collapsed": false,
     "input": [
      "sens_df = pd.pivot_table(sens_df, rows = ['site','circuit','max_cap_short'], values = ['pv_cap','num_batts','inv','int_cap','op_cost','NPC','COE','cap_short'])"
     ],
     "language": "python",
     "metadata": {},
     "outputs": [],
     "prompt_number": 6
    },
    {
     "cell_type": "markdown",
     "metadata": {},
     "source": [
      "#### Example of how to slice sens_def ####"
     ]
    },
    {
     "cell_type": "code",
     "collapsed": false,
     "input": [
      "# To make a slice on a site and a single maximum capacity shortage\n",
      "# e.g    sens_df.xs(('ug01',0.5),level = [0,2]) #pick the first and third multindex"
     ],
     "language": "python",
     "metadata": {},
     "outputs": [],
     "prompt_number": 7
    },
    {
     "cell_type": "markdown",
     "metadata": {},
     "source": [
      "#### Send combined SHS sensitivity analysis to csv  #####"
     ]
    },
    {
     "cell_type": "code",
     "collapsed": false,
     "input": [
      "sens_df.to_csv('../homer_results/sensitivity_results_comb.csv')"
     ],
     "language": "python",
     "metadata": {},
     "outputs": [],
     "prompt_number": 8
    },
    {
     "cell_type": "code",
     "collapsed": false,
     "input": [],
     "language": "python",
     "metadata": {},
     "outputs": [],
     "prompt_number": 8
    }
   ],
   "metadata": {}
  }
 ]
}