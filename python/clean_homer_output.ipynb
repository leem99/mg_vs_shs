{
 "metadata": {
  "name": "clean_homer_output"
 },
 "nbformat": 3,
 "nbformat_minor": 0,
 "worksheets": [
  {
   "cells": [
    {
     "cell_type": "markdown",
     "metadata": {},
     "source": [
      "## Clean and Combine HOMER CSV Outputs ##\n",
      "By: Mitchell Lee\n",
      "\n",
      "\n",
      "* Put site and circuit in data\n",
      "* Make data uniformly delimited"
     ]
    },
    {
     "cell_type": "markdown",
     "metadata": {},
     "source": [
      "### Sensitivity Analysis Cleaning ###"
     ]
    },
    {
     "cell_type": "markdown",
     "metadata": {},
     "source": [
      "####Import necessary libraries ####"
     ]
    },
    {
     "cell_type": "code",
     "collapsed": false,
     "input": [
      "import numpy as np\n",
      "import pandas as pd\n",
      "import glob\n",
      "import csv\n",
      "import string"
     ],
     "language": "python",
     "metadata": {},
     "outputs": [],
     "prompt_number": 128
    },
    {
     "cell_type": "markdown",
     "metadata": {},
     "source": [
      "#### Make list of sensitivity analysis files ####"
     ]
    },
    {
     "cell_type": "code",
     "collapsed": false,
     "input": [
      "sens_flist = glob.glob('../homer_results/sensitivity*') "
     ],
     "language": "python",
     "metadata": {},
     "outputs": [],
     "prompt_number": 129
    },
    {
     "cell_type": "markdown",
     "metadata": {},
     "source": [
      "#### Loop through files and append them as pandas DataFrame ####"
     ]
    },
    {
     "cell_type": "code",
     "collapsed": false,
     "input": [
      "for ix, sens_f in enumerate(sens_flist):\n",
      "    # for first file create the DataFrame that all other files will be appended to\n",
      "    if ix == 0:\n",
      "        sens_f_split = string.rsplit(sens_f,'_')\n",
      "        site = sens_f_split[-2]\n",
      "        circuit = string.split(sens_f_split[-1],'.')[0] \n",
      "        sens_df = pd.read_csv(sens_f, delimiter= '\\t')\n",
      "        sens_df['site'] = site\n",
      "        sens_df['circuit'] = circuit\n",
      "    # open subsequent files and append to initial DataFrame\n",
      "    else:\n",
      "        sens_f_split = string.rsplit(sens_f,'_')\n",
      "        site = sens_f_split[-2]\n",
      "        circuit = string.split(sens_f_split[-1],'.')[0] \n",
      "        sens_df_temp = pd.read_csv(sens_f, delimiter= '\\t')\n",
      "        sens_df_temp['site'] = site\n",
      "        sens_df_temp['circuit'] = circuit\n",
      "        sens_df = sens_df.append(sens_df_temp)"
     ],
     "language": "python",
     "metadata": {},
     "outputs": [],
     "prompt_number": 130
    },
    {
     "cell_type": "code",
     "collapsed": false,
     "input": [
      "sens_df[0:10]"
     ],
     "language": "python",
     "metadata": {},
     "outputs": [
      {
       "html": [
        "<div style=\"max-height:1000px;max-width:1500px;overflow:auto;\">\n",
        "<table border=\"1\" class=\"dataframe\">\n",
        "  <thead>\n",
        "    <tr style=\"text-align: right;\">\n",
        "      <th></th>\n",
        "      <th>Max. Cap. Shortage (%)</th>\n",
        "      <th>PV (kW)</th>\n",
        "      <th>CP12240D</th>\n",
        "      <th>Converter (kW)</th>\n",
        "      <th>Initial capital</th>\n",
        "      <th>Operating cost ($/yr)</th>\n",
        "      <th>Total NPC</th>\n",
        "      <th>COE ($/kWh)</th>\n",
        "      <th>Renewable fraction</th>\n",
        "      <th>Capacity shortage</th>\n",
        "      <th>Unnamed: 10</th>\n",
        "      <th>site</th>\n",
        "      <th>circuit</th>\n",
        "    </tr>\n",
        "  </thead>\n",
        "  <tbody>\n",
        "    <tr>\n",
        "      <th>0</th>\n",
        "      <td>  0.0</td>\n",
        "      <td> 0.16</td>\n",
        "      <td> 4</td>\n",
        "      <td> 0.2</td>\n",
        "      <td> $ 480</td>\n",
        "      <td> 37</td>\n",
        "      <td>   $ 950</td>\n",
        "      <td> 1.554</td>\n",
        "      <td> 1</td>\n",
        "      <td> 0.00</td>\n",
        "      <td>NaN</td>\n",
        "      <td> ug01</td>\n",
        "      <td> 7</td>\n",
        "    </tr>\n",
        "    <tr>\n",
        "      <th>1</th>\n",
        "      <td>  0.5</td>\n",
        "      <td> 0.14</td>\n",
        "      <td> 4</td>\n",
        "      <td> 0.2</td>\n",
        "      <td> $ 460</td>\n",
        "      <td> 37</td>\n",
        "      <td>   $ 927</td>\n",
        "      <td> 1.523</td>\n",
        "      <td> 1</td>\n",
        "      <td> 0.00</td>\n",
        "      <td>NaN</td>\n",
        "      <td> ug01</td>\n",
        "      <td> 7</td>\n",
        "    </tr>\n",
        "    <tr>\n",
        "      <th>2</th>\n",
        "      <td>  1.0</td>\n",
        "      <td> 0.14</td>\n",
        "      <td> 4</td>\n",
        "      <td> 0.2</td>\n",
        "      <td> $ 460</td>\n",
        "      <td> 37</td>\n",
        "      <td>   $ 927</td>\n",
        "      <td> 1.523</td>\n",
        "      <td> 1</td>\n",
        "      <td> 0.00</td>\n",
        "      <td>NaN</td>\n",
        "      <td> ug01</td>\n",
        "      <td> 7</td>\n",
        "    </tr>\n",
        "    <tr>\n",
        "      <th>3</th>\n",
        "      <td>  1.5</td>\n",
        "      <td> 0.12</td>\n",
        "      <td> 4</td>\n",
        "      <td> 0.2</td>\n",
        "      <td> $ 440</td>\n",
        "      <td> 36</td>\n",
        "      <td>   $ 904</td>\n",
        "      <td> 1.495</td>\n",
        "      <td> 1</td>\n",
        "      <td> 0.01</td>\n",
        "      <td>NaN</td>\n",
        "      <td> ug01</td>\n",
        "      <td> 7</td>\n",
        "    </tr>\n",
        "    <tr>\n",
        "      <th>4</th>\n",
        "      <td>  2.0</td>\n",
        "      <td> 0.12</td>\n",
        "      <td> 4</td>\n",
        "      <td> 0.2</td>\n",
        "      <td> $ 440</td>\n",
        "      <td> 36</td>\n",
        "      <td>   $ 904</td>\n",
        "      <td> 1.495</td>\n",
        "      <td> 1</td>\n",
        "      <td> 0.01</td>\n",
        "      <td>NaN</td>\n",
        "      <td> ug01</td>\n",
        "      <td> 7</td>\n",
        "    </tr>\n",
        "    <tr>\n",
        "      <th>5</th>\n",
        "      <td>  5.0</td>\n",
        "      <td> 0.12</td>\n",
        "      <td> 3</td>\n",
        "      <td> 0.2</td>\n",
        "      <td> $ 390</td>\n",
        "      <td> 28</td>\n",
        "      <td>   $ 752</td>\n",
        "      <td> 1.284</td>\n",
        "      <td> 1</td>\n",
        "      <td> 0.05</td>\n",
        "      <td>NaN</td>\n",
        "      <td> ug01</td>\n",
        "      <td> 7</td>\n",
        "    </tr>\n",
        "    <tr>\n",
        "      <th>6</th>\n",
        "      <td> 10.0</td>\n",
        "      <td> 0.12</td>\n",
        "      <td> 3</td>\n",
        "      <td> 0.1</td>\n",
        "      <td> $ 330</td>\n",
        "      <td> 27</td>\n",
        "      <td>   $ 672</td>\n",
        "      <td> 1.176</td>\n",
        "      <td> 1</td>\n",
        "      <td> 0.09</td>\n",
        "      <td>NaN</td>\n",
        "      <td> ug01</td>\n",
        "      <td> 7</td>\n",
        "    </tr>\n",
        "    <tr>\n",
        "      <th>0</th>\n",
        "      <td>  0.0</td>\n",
        "      <td> 0.18</td>\n",
        "      <td> 6</td>\n",
        "      <td> 0.2</td>\n",
        "      <td> $ 600</td>\n",
        "      <td> 53</td>\n",
        "      <td> $ 1,276</td>\n",
        "      <td> 2.088</td>\n",
        "      <td> 1</td>\n",
        "      <td> 0.00</td>\n",
        "      <td>NaN</td>\n",
        "      <td> ug01</td>\n",
        "      <td> 8</td>\n",
        "    </tr>\n",
        "    <tr>\n",
        "      <th>1</th>\n",
        "      <td>  0.5</td>\n",
        "      <td> 0.16</td>\n",
        "      <td> 6</td>\n",
        "      <td> 0.2</td>\n",
        "      <td> $ 580</td>\n",
        "      <td> 53</td>\n",
        "      <td> $ 1,253</td>\n",
        "      <td> 2.052</td>\n",
        "      <td> 1</td>\n",
        "      <td> 0.00</td>\n",
        "      <td>NaN</td>\n",
        "      <td> ug01</td>\n",
        "      <td> 8</td>\n",
        "    </tr>\n",
        "    <tr>\n",
        "      <th>2</th>\n",
        "      <td>  1.0</td>\n",
        "      <td> 0.18</td>\n",
        "      <td> 5</td>\n",
        "      <td> 0.2</td>\n",
        "      <td> $ 550</td>\n",
        "      <td> 45</td>\n",
        "      <td> $ 1,124</td>\n",
        "      <td> 1.854</td>\n",
        "      <td> 1</td>\n",
        "      <td> 0.01</td>\n",
        "      <td>NaN</td>\n",
        "      <td> ug01</td>\n",
        "      <td> 8</td>\n",
        "    </tr>\n",
        "  </tbody>\n",
        "</table>\n",
        "</div>"
       ],
       "output_type": "pyout",
       "prompt_number": 131,
       "text": [
        "   Max. Cap. Shortage (%)  PV (kW)  CP12240D  Converter (kW) Initial capital  \\\n",
        "0                     0.0     0.16         4             0.2           $ 480   \n",
        "1                     0.5     0.14         4             0.2           $ 460   \n",
        "2                     1.0     0.14         4             0.2           $ 460   \n",
        "3                     1.5     0.12         4             0.2           $ 440   \n",
        "4                     2.0     0.12         4             0.2           $ 440   \n",
        "5                     5.0     0.12         3             0.2           $ 390   \n",
        "6                    10.0     0.12         3             0.1           $ 330   \n",
        "0                     0.0     0.18         6             0.2           $ 600   \n",
        "1                     0.5     0.16         6             0.2           $ 580   \n",
        "2                     1.0     0.18         5             0.2           $ 550   \n",
        "\n",
        "   Operating cost ($/yr) Total NPC  COE ($/kWh)  Renewable fraction  \\\n",
        "0                     37     $ 950        1.554                   1   \n",
        "1                     37     $ 927        1.523                   1   \n",
        "2                     37     $ 927        1.523                   1   \n",
        "3                     36     $ 904        1.495                   1   \n",
        "4                     36     $ 904        1.495                   1   \n",
        "5                     28     $ 752        1.284                   1   \n",
        "6                     27     $ 672        1.176                   1   \n",
        "0                     53   $ 1,276        2.088                   1   \n",
        "1                     53   $ 1,253        2.052                   1   \n",
        "2                     45   $ 1,124        1.854                   1   \n",
        "\n",
        "   Capacity shortage  Unnamed: 10  site circuit  \n",
        "0               0.00          NaN  ug01       7  \n",
        "1               0.00          NaN  ug01       7  \n",
        "2               0.00          NaN  ug01       7  \n",
        "3               0.01          NaN  ug01       7  \n",
        "4               0.01          NaN  ug01       7  \n",
        "5               0.05          NaN  ug01       7  \n",
        "6               0.09          NaN  ug01       7  \n",
        "0               0.00          NaN  ug01       8  \n",
        "1               0.00          NaN  ug01       8  \n",
        "2               0.01          NaN  ug01       8  "
       ]
      }
     ],
     "prompt_number": 131
    },
    {
     "cell_type": "markdown",
     "metadata": {},
     "source": [
      "#### Rename columns and remove useless columns #### "
     ]
    },
    {
     "cell_type": "code",
     "collapsed": false,
     "input": [
      "# remove unnamed empty column\n",
      "del sens_df['Unnamed: 10']\n",
      "\n",
      "# remove 'renewable fraction' column (information is not useful because all models are PV generation only)\n",
      "del sens_df['Renewable fraction']            \n",
      "\n",
      "# rename columns\n",
      "sens_df.columns = ['max_cap_short','pv_cap','num_batts','inv','int_cap','op_cost','NPC','COE','cap_short','site','circuit']"
     ],
     "language": "python",
     "metadata": {},
     "outputs": [],
     "prompt_number": 132
    },
    {
     "cell_type": "code",
     "collapsed": false,
     "input": [
      "# convert int_cap and NPC to float \n",
      "sens_df['int_cap'] = sens_df['int_cap'].str.replace(r'[$,]', '').astype('float')\n",
      "sens_df['NPC'] = sens_df['NPC'].str.replace(r'[$,]', '').astype('float')\n",
      "\n",
      "#make\n",
      "sens_df['cap_short'] = sens_df['cap_short'].astype('string')"
     ],
     "language": "python",
     "metadata": {},
     "outputs": [],
     "prompt_number": 133
    },
    {
     "cell_type": "markdown",
     "metadata": {},
     "source": [
      "#### Pivot sensitivity analysis To Multi-index on: ####\n",
      "> * site\n",
      "> * circuit\n",
      "> * max capacity shortage"
     ]
    },
    {
     "cell_type": "code",
     "collapsed": false,
     "input": [
      "sens_df = pd.pivot_table(sens_df, rows = ['site','circuit','max_cap_short'], values = ['pv_cap','num_batts','inv','int_cap','op_cost','NPC','COE','cap_short'])"
     ],
     "language": "python",
     "metadata": {},
     "outputs": [],
     "prompt_number": 140
    },
    {
     "cell_type": "markdown",
     "metadata": {},
     "source": [
      "#### Example of how to slice sens_def ####"
     ]
    },
    {
     "cell_type": "code",
     "collapsed": false,
     "input": [
      "# To make a slice on a site and a single maximum capacity shortage\n",
      "# e.g    sens_df.xs(('ug01',0.5),level = [0,2]) #pick the first and third multindex"
     ],
     "language": "python",
     "metadata": {},
     "outputs": [],
     "prompt_number": 179
    },
    {
     "cell_type": "markdown",
     "metadata": {},
     "source": [
      "#### Send combined sensitivity analysis to csv  #####"
     ]
    },
    {
     "cell_type": "code",
     "collapsed": false,
     "input": [
      "sens_df.to_csv('../homer_results/sensitivity_analysis_comb.csv')"
     ],
     "language": "python",
     "metadata": {},
     "outputs": [],
     "prompt_number": 185
    },
    {
     "cell_type": "code",
     "collapsed": false,
     "input": [],
     "language": "python",
     "metadata": {},
     "outputs": [],
     "prompt_number": 134
    }
   ],
   "metadata": {}
  }
 ]
}