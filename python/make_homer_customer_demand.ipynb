{
 "metadata": {
  "name": "make_homer_customer_demand"
 },
 "nbformat": 3,
 "nbformat_minor": 0,
 "worksheets": [
  {
   "cells": [
    {
     "cell_type": "markdown",
     "metadata": {},
     "source": [
      "# Make customer level demand inputs for HOMER Energy models #\n",
      "BY: Mitchell Lee"
     ]
    },
    {
     "cell_type": "markdown",
     "metadata": {},
     "source": [
      "### Import necessary libraries ###"
     ]
    },
    {
     "cell_type": "code",
     "collapsed": true,
     "input": [
      "import pandas as pd \n",
      "import numpy as np"
     ],
     "language": "python",
     "metadata": {},
     "outputs": [],
     "prompt_number": 1
    },
    {
     "cell_type": "markdown",
     "metadata": {},
     "source": [
      "### Load in dataframe anaylsis tools ###"
     ]
    },
    {
     "cell_type": "code",
     "collapsed": true,
     "input": [
      "run sd_data_stats.py"
     ],
     "language": "python",
     "metadata": {},
     "outputs": [],
     "prompt_number": 2
    },
    {
     "cell_type": "markdown",
     "metadata": {},
     "source": [
      "### Get customer demand data ###"
     ]
    },
    {
     "cell_type": "code",
     "collapsed": true,
     "input": [
      "SD = pd.read_csv('../demand_data/drop_00_08_2013DF.csv',parse_dates = True, index_col = 0)"
     ],
     "language": "python",
     "metadata": {},
     "outputs": [],
     "prompt_number": 3
    },
    {
     "cell_type": "markdown",
     "metadata": {},
     "source": [
      "### Make a dictionary of circuits to sites ###"
     ]
    },
    {
     "cell_type": "code",
     "collapsed": true,
     "input": [
      "# No mains data for U02. Insert ug02_0 to keep script from failing\n",
      "SD['ug02_0'] = np.nan\n",
      "# Make dict\n",
      "site_dict = make_site_dict(SD)"
     ],
     "language": "python",
     "metadata": {},
     "outputs": [],
     "prompt_number": 4
    },
    {
     "cell_type": "markdown",
     "metadata": {},
     "source": [
      "### Pullout data for UG01 ###"
     ]
    },
    {
     "cell_type": "code",
     "collapsed": true,
     "input": [
      "#Dataframe containing data from all individual customers\n",
      "ug01 = SD[site_dict['ug01']]"
     ],
     "language": "python",
     "metadata": {},
     "outputs": [],
     "prompt_number": 5
    },
    {
     "cell_type": "markdown",
     "metadata": {},
     "source": [
      "### Basic filtering of UG01 data (To make data HOMER friendly) ###\n",
      "* Isolate data to 8760 hours (1 year) of interest  \n",
      "* In rows where inverter limilations are exceeded, replace values with zero\n",
      "* Replace NaN values with zero\n",
      "* Convert units from Wh to kWh"
     ]
    },
    {
     "cell_type": "code",
     "collapsed": true,
     "input": [
      "# year of interest\n",
      "ug01 = ug01['2012-09-01':'2013-08-31']\n",
      "\n",
      "# remove data that exceeds inverter limits\n",
      "invert_lim = 750 # 750 W\n",
      "[rows_lost, junk] = np.shape(ug01[ug01.sum(axis =1)>= invert_lim])\n",
      "per_rows_lost = rows_lost/8760.\n",
      "ug01.ix[ug01.sum(axis=1) >= invert_lim] =  0\n",
      "\n",
      "# remove days where Emax is exceeded\n",
      "ug01_dly = ug01.resample('D', how = 'sum')\n",
      "ug01[ug01_dly >= 1000] = np.nan\n",
      "\n",
      "# replace all other NaN values with zero\n",
      "ug01 = ug01.fillna(value = 0)\n",
      "\n",
      "# converty units from Wh to kWh\n",
      "ug01 = ug01/1000.\n",
      "\n",
      "# make sum of citcuits timeseries\n",
      "ug01_sum = ug01.resample('D', how = 'sum')\n",
      "\n",
      "# remove data is beyond inverter limits from sum of circuits \n",
      "ug01_sum[ug01_sum >= invert_lim/1000] = 0"
     ],
     "language": "python",
     "metadata": {},
     "outputs": [],
     "prompt_number": 10
    },
    {
     "cell_type": "code",
     "collapsed": false,
     "input": [],
     "language": "python",
     "metadata": {},
     "outputs": []
    },
    {
     "cell_type": "markdown",
     "metadata": {},
     "source": [
      "### Write sum of customer data to Homer readable txt file ###"
     ]
    },
    {
     "cell_type": "code",
     "collapsed": false,
     "input": [
      "ug01_sum_homer = open('../demand_data/' + 'ug01_sum.txt', 'w')\n",
      "ug01_sum_homer.write('\\n'.join(map(str,list(ug01_sum))))\n",
      "ug01_sum_homer.close()"
     ],
     "language": "python",
     "metadata": {},
     "outputs": []
    },
    {
     "cell_type": "markdown",
     "metadata": {},
     "source": [
      "### Write customer level data to seperate HOMER readable txt files ###"
     ]
    },
    {
     "cell_type": "code",
     "collapsed": false,
     "input": [
      "# make list of file to write\n",
      "f_names = ['../demand_data/' + n +'.txt' for n in list(ug01.columns)]\n",
      "\n",
      "# create and write files one by one\n",
      "\n",
      "for ix, f_nam in enumerate(f_names):\n",
      "    f_new = open(f_nam,'w')\n",
      "    f_new.write('\\n'.join(map(str,list(ug01[ug01.columns[ix]]))))\n",
      "    f_new.close()"
     ],
     "language": "python",
     "metadata": {},
     "outputs": []
    },
    {
     "cell_type": "code",
     "collapsed": false,
     "input": [],
     "language": "python",
     "metadata": {},
     "outputs": []
    },
    {
     "cell_type": "code",
     "collapsed": true,
     "input": [],
     "language": "python",
     "metadata": {},
     "outputs": []
    },
    {
     "cell_type": "code",
     "collapsed": true,
     "input": [],
     "language": "python",
     "metadata": {},
     "outputs": []
    },
    {
     "cell_type": "code",
     "collapsed": true,
     "input": [],
     "language": "python",
     "metadata": {},
     "outputs": []
    }
   ],
   "metadata": {}
  }
 ]
}