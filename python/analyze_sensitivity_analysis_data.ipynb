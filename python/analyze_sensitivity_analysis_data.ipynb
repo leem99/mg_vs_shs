{
 "metadata": {
  "name": "analyze_sensitivity_analysis_data"
 },
 "nbformat": 3,
 "nbformat_minor": 0,
 "worksheets": [
  {
   "cells": [
    {
     "cell_type": "markdown",
     "metadata": {},
     "source": [
      "## Analyze Sensitivity Analysis Results ##\n",
      "By: Mitchell Lee\n"
     ]
    },
    {
     "cell_type": "markdown",
     "metadata": {},
     "source": [
      "#### Load Necessary Libraries####"
     ]
    },
    {
     "cell_type": "code",
     "collapsed": false,
     "input": [
      "import numpy as np\n",
      "import pandas as pd\n"
     ],
     "language": "python",
     "metadata": {},
     "outputs": [],
     "prompt_number": 150
    },
    {
     "cell_type": "markdown",
     "metadata": {},
     "source": [
      "#### Open Sensitivity Analysis Results ####"
     ]
    },
    {
     "cell_type": "code",
     "collapsed": false,
     "input": [
      "# Sensitivity analysis for solar home systems (shs)\n",
      "shs_sens = pd.read_csv(\"../homer_results/sensitivity_results_comb.csv\",index_col = ['site','circuit','max_cap_short'])\n",
      "\n",
      "# Sensitivity analysis for micro-grids (mg)\n",
      "\n",
      "mg_sens = pd.read_csv('../homer_results/ug01_optimally_sized_sensitivity_results_cleaned.csv',index_col = 0)\n",
      "mg_sens_2 = pd.read_csv('../homer_results/ug04_optimally_sized_sensitivity_results_cleaned.csv',index_col = 0)"
     ],
     "language": "python",
     "metadata": {},
     "outputs": [],
     "prompt_number": 151
    },
    {
     "cell_type": "code",
     "collapsed": false,
     "input": [],
     "language": "python",
     "metadata": {},
     "outputs": [],
     "prompt_number": 151
    },
    {
     "cell_type": "markdown",
     "metadata": {},
     "source": [
      "#### Look at a single maximum capacity shortage (mcs) across UG01####"
     ]
    },
    {
     "cell_type": "code",
     "collapsed": false,
     "input": [
      "# specify maximum capacity shortage\n",
      "mcs = 0\n",
      "# slice shs data for desired mcs\n",
      "shs_mcs = shs_sens.xs(('ug01',mcs), level = [0,2])\n",
      "\n",
      "# Net present cost (NPC) of solar home system \n",
      "shs_mcs_npc = shs_sens.xs(('ug01',mcs), level = [0,2])['npc'].sum(axis = 1)\n",
      "\n",
      "# Initial capital investment of solar home system \n",
      "shs_mcs_int_cap = shs_sens.xs(('ug01',mcs), level = [0,2])['int_cap'].sum(axis = 1)\n",
      "\n",
      "# Total installed inverter capacity of solar home system \n",
      "shs_mcs_inv = shs_sens.xs(('ug01',mcs), level = [0,2])['inv'].sum(axis = 1)\n",
      "\n",
      "# Total installed battery capacity of solar home system \n",
      "shs_mcs_num_batts = shs_sens.xs(('ug01',mcs), level = [0,2])['num_batts'].sum(axis = 1)\n",
      "\n",
      "# Total installed PV capacity of solar home system \n",
      "shs_mcs_pv = shs_sens.xs(('ug01',mcs), level = [0,2])['pv'].sum(axis = 1)\n",
      "\n",
      "# Average consumer cost of energy (NOT COE for all delivered electricity)\n",
      "shs_mcs_ave_coe = shs_sens.xs(('ug01',mcs), level = [0,2])['coe'].mean(axis = 1)\n"
     ],
     "language": "python",
     "metadata": {},
     "outputs": [],
     "prompt_number": 152
    },
    {
     "cell_type": "markdown",
     "metadata": {},
     "source": [
      "#### Look at a single maximum capacity shortage (mcs) across UG01####"
     ]
    },
    {
     "cell_type": "code",
     "collapsed": false,
     "input": [
      "# specify maximum capacity shortage\n",
      "# already_specified\n",
      "\n",
      "# slice shs data for desired mcs\n",
      "shs_mcs_2 = shs_sens.xs(('ug04',mcs), level = [0,2])\n",
      "\n",
      "# Net present cost (NPC) of solar home system \n",
      "shs_mcs_npc_2 = shs_sens.xs(('ug04',mcs), level = [0,2])['npc'].sum(axis = 1)\n",
      "\n",
      "# Initial capital investment of solar home system \n",
      "shs_mcs_int_cap_2 = shs_sens.xs(('ug04',mcs), level = [0,2])['int_cap'].sum(axis = 1)\n",
      "\n",
      "# Total installed inverter capacity of solar home system \n",
      "shs_mcs_inv_2 = shs_sens.xs(('ug04',mcs), level = [0,2])['inv'].sum(axis = 1)\n",
      "\n",
      "# Total installed battery capacity of solar home system \n",
      "shs_mcs_num_batts_2 = shs_sens.xs(('ug04',mcs), level = [0,2])['num_batts'].sum(axis = 1)\n",
      "\n",
      "# Total installed PV capacity of solar home system \n",
      "shs_mcs_pv_2 = shs_sens.xs(('ug04',mcs), level = [0,2])['pv'].sum(axis = 1)\n",
      "\n",
      "# Average consumer cost of energy (NOT COE for all delivered electricity)\n",
      "shs_mcs_ave_coe_2 = shs_sens.xs(('ug04',mcs), level = [0,2])['coe'].mean(axis = 1)\n"
     ],
     "language": "python",
     "metadata": {},
     "outputs": [],
     "prompt_number": 153
    },
    {
     "cell_type": "markdown",
     "metadata": {},
     "source": [
      "#### Comparision of micro-grid and solar home system sensitivity analysis results for secified max capacity shortage ###"
     ]
    },
    {
     "cell_type": "code",
     "collapsed": false,
     "input": [
      "# create an empty DF\n",
      "summary_DF = pd.DataFrame(index = ['pv_cap','num_batts','inv','int_cap','npc','coe'])\n",
      "\n",
      "# solar home systems UG01\n",
      "shs_summary = [shs_mcs_pv,shs_mcs_num_batts,shs_mcs_inv,shs_mcs_int_cap,shs_mcs_npc,shs_mcs_ave_coe]\n",
      "summary_DF['shs_UG01'] = shs_summary\n",
      "\n",
      "# solar home systems UG04\n",
      "shs_summary_2 = [shs_mcs_pv_2,shs_mcs_num_batts_2,shs_mcs_inv_2,shs_mcs_int_cap_2,shs_mcs_npc_2,shs_mcs_ave_coe_2]\n",
      "summary_DF['shs_UG04'] = shs_summary_2\n",
      "\n",
      "# UG01 micro-grid \n",
      "mg_sens_slice = mg_sens[mg_sens['max_cap_short']==mcs]\n",
      "mg_summary = [mg_sens_slice['pv'], mg_sens_slice['num_batts'], mg_sens_slice['inv'],mg_sens_slice['int_cap'],mg_sens_slice['npc'],mg_sens_slice['coe']]\n",
      "summary_DF['mg_UG01'] = mg_summary\n",
      "\n",
      "# UG04 micro-grid \n",
      "mg_sens_slice_2 = mg_sens_2[mg_sens_2['max_cap_short']==mcs]\n",
      "mg_summary_2 = [mg_sens_slice_2['pv'], mg_sens_slice_2['num_batts'], mg_sens_slice_2['inv'],mg_sens_slice_2['int_cap'],mg_sens_slice_2['npc'],mg_sens_slice_2['coe']]\n",
      "summary_DF['mg_UG04'] = mg_summary_2\n",
      "\n",
      "\n",
      "# convert all data to float\n",
      "summary_DF = summary_DF.astype(float)"
     ],
     "language": "python",
     "metadata": {},
     "outputs": [],
     "prompt_number": 154
    },
    {
     "cell_type": "code",
     "collapsed": false,
     "input": [
      "summary_DF"
     ],
     "language": "python",
     "metadata": {},
     "outputs": [
      {
       "html": [
        "<div style=\"max-height:1000px;max-width:1500px;overflow:auto;\">\n",
        "<table border=\"1\" class=\"dataframe\">\n",
        "  <thead>\n",
        "    <tr style=\"text-align: right;\">\n",
        "      <th></th>\n",
        "      <th>shs_UG01</th>\n",
        "      <th>shs_UG04</th>\n",
        "      <th>mg_UG01</th>\n",
        "      <th>mg_UG04</th>\n",
        "    </tr>\n",
        "  </thead>\n",
        "  <tbody>\n",
        "    <tr>\n",
        "      <th>pv_cap</th>\n",
        "      <td>    1.4600</td>\n",
        "      <td>    1.420000</td>\n",
        "      <td>    0.800</td>\n",
        "      <td>    1.800</td>\n",
        "    </tr>\n",
        "    <tr>\n",
        "      <th>num_batts</th>\n",
        "      <td>   39.0000</td>\n",
        "      <td>   36.000000</td>\n",
        "      <td>   16.000</td>\n",
        "      <td>   12.000</td>\n",
        "    </tr>\n",
        "    <tr>\n",
        "      <th>inv</th>\n",
        "      <td>    1.7000</td>\n",
        "      <td>    1.200000</td>\n",
        "      <td>    0.600</td>\n",
        "      <td>    0.400</td>\n",
        "    </tr>\n",
        "    <tr>\n",
        "      <th>int_cap</th>\n",
        "      <td> 4430.0000</td>\n",
        "      <td> 3940.000000</td>\n",
        "      <td> 2024.000</td>\n",
        "      <td> 2688.000</td>\n",
        "    </tr>\n",
        "    <tr>\n",
        "      <th>npc</th>\n",
        "      <td> 8946.0000</td>\n",
        "      <td> 8041.000000</td>\n",
        "      <td> 4061.000</td>\n",
        "      <td> 4335.000</td>\n",
        "    </tr>\n",
        "    <tr>\n",
        "      <th>coe</th>\n",
        "      <td>    2.1125</td>\n",
        "      <td>    1.395125</td>\n",
        "      <td>    0.905</td>\n",
        "      <td>    0.556</td>\n",
        "    </tr>\n",
        "  </tbody>\n",
        "</table>\n",
        "</div>"
       ],
       "output_type": "pyout",
       "prompt_number": 155,
       "text": [
        "            shs_UG01     shs_UG04   mg_UG01   mg_UG04\n",
        "pv_cap        1.4600     1.420000     0.800     1.800\n",
        "num_batts    39.0000    36.000000    16.000    12.000\n",
        "inv           1.7000     1.200000     0.600     0.400\n",
        "int_cap    4430.0000  3940.000000  2024.000  2688.000\n",
        "npc        8946.0000  8041.000000  4061.000  4335.000\n",
        "coe           2.1125     1.395125     0.905     0.556"
       ]
      }
     ],
     "prompt_number": 155
    },
    {
     "cell_type": "code",
     "collapsed": false,
     "input": [],
     "language": "python",
     "metadata": {},
     "outputs": [],
     "prompt_number": 155
    },
    {
     "cell_type": "code",
     "collapsed": false,
     "input": [],
     "language": "python",
     "metadata": {},
     "outputs": [],
     "prompt_number": 155
    },
    {
     "cell_type": "code",
     "collapsed": false,
     "input": [],
     "language": "python",
     "metadata": {},
     "outputs": [],
     "prompt_number": 155
    },
    {
     "cell_type": "code",
     "collapsed": false,
     "input": [],
     "language": "python",
     "metadata": {},
     "outputs": [],
     "prompt_number": 155
    },
    {
     "cell_type": "code",
     "collapsed": false,
     "input": [],
     "language": "python",
     "metadata": {},
     "outputs": [],
     "prompt_number": 155
    },
    {
     "cell_type": "code",
     "collapsed": false,
     "input": [],
     "language": "python",
     "metadata": {},
     "outputs": [],
     "prompt_number": 155
    }
   ],
   "metadata": {}
  }
 ]
}