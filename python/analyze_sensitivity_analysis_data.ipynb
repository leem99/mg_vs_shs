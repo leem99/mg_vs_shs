{
 "metadata": {
  "name": "analyze_sensitivity_analysis_data"
 },
 "nbformat": 3,
 "nbformat_minor": 0,
 "worksheets": [
  {
   "cells": [
    {
     "cell_type": "markdown",
     "metadata": {},
     "source": [
      "## Analyze Sensitivity Analysis Results ##\n",
      "By: Mitchell Lee\n"
     ]
    },
    {
     "cell_type": "markdown",
     "metadata": {},
     "source": [
      "#### Load Necessary Libraries####"
     ]
    },
    {
     "cell_type": "code",
     "collapsed": false,
     "input": [
      "import numpy as np\n",
      "import pandas as pd\n"
     ],
     "language": "python",
     "metadata": {},
     "outputs": [],
     "prompt_number": 29
    },
    {
     "cell_type": "markdown",
     "metadata": {},
     "source": [
      "#### Open Sensitivity Analysis Results ####"
     ]
    },
    {
     "cell_type": "code",
     "collapsed": false,
     "input": [
      "# Sensitivity analysis for solar home systems (shs)\n",
      "shs_sens = pd.read_csv(\"../homer_results/sensitivity_results_comb.csv\",index_col = ['site','circuit','max_cap_short'])\n",
      "\n",
      "# Sensitivity analysis for micro-grids (mg)\n",
      "mg_sens = pd.read_csv('../homer_results/ug01_optimally_sized_sensitivity_results_cleaned.csv',index_col = 0)"
     ],
     "language": "python",
     "metadata": {},
     "outputs": [],
     "prompt_number": 30
    },
    {
     "cell_type": "code",
     "collapsed": false,
     "input": [
      "shs_sens"
     ],
     "language": "python",
     "metadata": {},
     "outputs": [
      {
       "html": [
        "<pre>\n",
        "&lt;class 'pandas.core.frame.DataFrame'&gt;\n",
        "MultiIndex: 70 entries, (ug01, 1, 0.0) to (ug01, 9, 10.0)\n",
        "Data columns (total 8 columns):\n",
        "cap_short    70  non-null values\n",
        "coe          70  non-null values\n",
        "int_cap      70  non-null values\n",
        "inv          70  non-null values\n",
        "npc          70  non-null values\n",
        "num_batts    70  non-null values\n",
        "op_cost      70  non-null values\n",
        "pv           70  non-null values\n",
        "dtypes: float64(6), int64(2)\n",
        "</pre>"
       ],
       "output_type": "pyout",
       "prompt_number": 31,
       "text": [
        "<class 'pandas.core.frame.DataFrame'>\n",
        "MultiIndex: 70 entries, (ug01, 1, 0.0) to (ug01, 9, 10.0)\n",
        "Data columns (total 8 columns):\n",
        "cap_short    70  non-null values\n",
        "coe          70  non-null values\n",
        "int_cap      70  non-null values\n",
        "inv          70  non-null values\n",
        "npc          70  non-null values\n",
        "num_batts    70  non-null values\n",
        "op_cost      70  non-null values\n",
        "pv           70  non-null values\n",
        "dtypes: float64(6), int64(2)"
       ]
      }
     ],
     "prompt_number": 31
    },
    {
     "cell_type": "markdown",
     "metadata": {},
     "source": [
      "#### Look at a single maximum capacity shortage (mcs) across all sites ####"
     ]
    },
    {
     "cell_type": "code",
     "collapsed": false,
     "input": [
      "# specify maximum capacity shortage\n",
      "mcs = 1.0\n",
      "# slice shs data for desired mcs\n",
      "shs_mcs = shs_sens.xs(('ug01',mcs), level = [0,2])\n",
      "\n",
      "# Net present cost (NPC) of solar home system \n",
      "shs_mcs_npc = shs_sens.xs(('ug01',mcs), level = [0,2])['npc'].sum(axis = 1)\n",
      "\n",
      "# Initial capital investment of solar home system \n",
      "shs_mcs_int_cap = shs_sens.xs(('ug01',mcs), level = [0,2])['int_cap'].sum(axis = 1)\n",
      "\n",
      "# Total installed inverter capacity of solar home system \n",
      "shs_mcs_inv = shs_sens.xs(('ug01',mcs), level = [0,2])['inv'].sum(axis = 1)\n",
      "\n",
      "# Total installed battery capacity of solar home system \n",
      "shs_mcs_num_batts = shs_sens.xs(('ug01',mcs), level = [0,2])['num_batts'].sum(axis = 1)\n",
      "\n",
      "# Total installed PV capacity of solar home system \n",
      "shs_mcs_pv = shs_sens.xs(('ug01',mcs), level = [0,2])['pv'].sum(axis = 1)\n",
      "\n",
      "# Average consumer cost of energy (NOT COE for all delivered electricity)\n",
      "shs_mcs_ave_coe = shs_sens.xs(('ug01',mcs), level = [0,2])['coe'].mean(axis = 1)\n"
     ],
     "language": "python",
     "metadata": {},
     "outputs": [],
     "prompt_number": 32
    },
    {
     "cell_type": "markdown",
     "metadata": {},
     "source": [
      "#### Comparision of micro-grid and solar home system sensitivity analysis results for secified max capacity shortage ###"
     ]
    },
    {
     "cell_type": "code",
     "collapsed": false,
     "input": [
      "# create an empty DF\n",
      "summary_DF = pd.DataFrame(index = ['pv_cap','num_batts','inv','int_cap','npc','coe'])\n",
      "\n",
      "# solar home systems\n",
      "shs_summary = [shs_mcs_pv,shs_mcs_num_batts,shs_mcs_inv,shs_mcs_int_cap,shs_mcs_npc,shs_mcs_ave_coe]\n",
      "summary_DF['shs'] = shs_summary\n",
      "\n",
      "# micro-grid \n",
      "mg_summary = [mg_sens['pv'][mcs], mg_sens['num_batts'][mcs], mg_sens['inv'][mcs],mg_sens['int_cap'][mcs],mg_sens['npc'][mcs],mg_sens['coe'][mcs]]\n",
      "summary_DF['mg'] = mg_summary"
     ],
     "language": "python",
     "metadata": {},
     "outputs": [],
     "prompt_number": 33
    },
    {
     "cell_type": "code",
     "collapsed": false,
     "input": [
      "summary_DF"
     ],
     "language": "python",
     "metadata": {},
     "outputs": [
      {
       "html": [
        "<div style=\"max-height:1000px;max-width:1500px;overflow:auto;\">\n",
        "<table border=\"1\" class=\"dataframe\">\n",
        "  <thead>\n",
        "    <tr style=\"text-align: right;\">\n",
        "      <th></th>\n",
        "      <th>shs</th>\n",
        "      <th>mg</th>\n",
        "    </tr>\n",
        "  </thead>\n",
        "  <tbody>\n",
        "    <tr>\n",
        "      <th>pv_cap</th>\n",
        "      <td>    1.4400</td>\n",
        "      <td>    0.800</td>\n",
        "    </tr>\n",
        "    <tr>\n",
        "      <th>num_batts</th>\n",
        "      <td>   32.0000</td>\n",
        "      <td>   16.000</td>\n",
        "    </tr>\n",
        "    <tr>\n",
        "      <th>inv</th>\n",
        "      <td>    1.5000</td>\n",
        "      <td>    0.600</td>\n",
        "    </tr>\n",
        "    <tr>\n",
        "      <th>int_cap</th>\n",
        "      <td> 3940.0000</td>\n",
        "      <td> 2024.000</td>\n",
        "    </tr>\n",
        "    <tr>\n",
        "      <th>npc</th>\n",
        "      <td> 7718.0000</td>\n",
        "      <td> 4070.000</td>\n",
        "    </tr>\n",
        "    <tr>\n",
        "      <th>coe</th>\n",
        "      <td>    1.9246</td>\n",
        "      <td>    0.897</td>\n",
        "    </tr>\n",
        "  </tbody>\n",
        "</table>\n",
        "</div>"
       ],
       "output_type": "pyout",
       "prompt_number": 34,
       "text": [
        "                 shs        mg\n",
        "pv_cap        1.4400     0.800\n",
        "num_batts    32.0000    16.000\n",
        "inv           1.5000     0.600\n",
        "int_cap    3940.0000  2024.000\n",
        "npc        7718.0000  4070.000\n",
        "coe           1.9246     0.897"
       ]
      }
     ],
     "prompt_number": 34
    },
    {
     "cell_type": "code",
     "collapsed": false,
     "input": [],
     "language": "python",
     "metadata": {},
     "outputs": [],
     "prompt_number": 34
    }
   ],
   "metadata": {}
  }
 ]
}